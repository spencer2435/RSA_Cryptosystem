{
 "cells": [
  {
   "cell_type": "markdown",
   "metadata": {},
   "source": [
    "## RSA Project"
   ]
  },
  {
   "cell_type": "markdown",
   "metadata": {},
   "source": [
    "\n",
    "\n",
    "\n",
    "\n",
    "\n"
   ]
  },
  {
   "cell_type": "code",
   "execution_count": null,
   "metadata": {},
   "outputs": [],
   "source": []
  },
  {
   "cell_type": "markdown",
   "metadata": {},
   "source": [
    "#### Basic tool set\n",
    "\n",
    "These are functions that you'll need to pre-process the messages before the messages are encoded and decoded by the RSA algorithm. That is the reason we will be defining them first.\n",
    "\n"
   ]
  },
  {
   "cell_type": "code",
   "execution_count": 60,
   "metadata": {},
   "outputs": [],
   "source": [
    "def Convert_Text(_string):\n",
    "    \"\"\"\n",
    "    This function takes in a simple \n",
    "    string such as \"hello\" and outputs the corresponding\n",
    "    standard list of integers (ascii) for each letter in the word hello.\n",
    "    For example:\n",
    "    _string = hello\n",
    "    integer_list = [104, 101, 108, 108, 111]\n",
    "    \"\"\"\n",
    "    integer_list = []   \n",
    "    \n",
    "    for i in _string:\n",
    "        integer_list.append(ord(i))\n",
    "        \n",
    "    \n",
    "        \n",
    "    \n",
    "    \n",
    "    return integer_list"
   ]
  },
  {
   "cell_type": "code",
   "execution_count": 61,
   "metadata": {},
   "outputs": [],
   "source": [
    "def Convert_Num(_list):\n",
    "    \"\"\"\n",
    "    This function takes in a list of integers\n",
    "    and outputs the corresponding string (ascii).\n",
    "    \n",
    "    For example:\n",
    "    _list = [104, 101, 108, 108, 111]\n",
    "    _string = hello\n",
    "    \"\"\"\n",
    "    _string = ''\n",
    "    for i in _list:\n",
    "        _string += chr(i)\n",
    "    return _string"
   ]
  },
  {
   "cell_type": "code",
   "execution_count": 62,
   "metadata": {},
   "outputs": [],
   "source": [
    "def Convert_Binary_String(_int):\n",
    "    \"\"\"\n",
    "    Converts an integer to\n",
    "    a string of its binary expansion.\n",
    "    \n",
    "    For example:\n",
    "    _int = 345\n",
    "    bits = 101011001\n",
    "    \"\"\"\n",
    "\n",
    "    bits = ''\n",
    "\n",
    "    while _int != 0:\n",
    "        \n",
    "        i = _int % 2\n",
    "        bits = str(i) + bits\n",
    "        _int = _int // 2\n",
    "        \n",
    "    \n",
    "    \n",
    "    return bits"
   ]
  },
  {
   "cell_type": "markdown",
   "metadata": {},
   "source": [
    "#### First tool set.\n",
    "\n"
   ]
  },
  {
   "cell_type": "code",
   "execution_count": 63,
   "metadata": {},
   "outputs": [],
   "source": [
    "def FME(b, n, m):\n",
    "    \"\"\"\n",
    "    Using the fast modular exponentiation algorithm,\n",
    "    the below function should return b**n mod m.\n",
    "    This will use Convert_Binary_String() function from above.\n",
    "    \"\"\"  \n",
    "    bin = Convert_Binary_String(n)\n",
    "    length = len(bin)\n",
    "\n",
    "    \n",
    "    x = 1\n",
    "    power = b % m\n",
    "    j = length - 1\n",
    "    \n",
    "    for i in range(length):\n",
    "        if bin[j] == \"1\":\n",
    "            x = (x * power) % m\n",
    "        power = (power ** 2) % m\n",
    "        j -= 1\n",
    "        \n",
    "    return x"
   ]
  },
  {
   "cell_type": "code",
   "execution_count": 64,
   "metadata": {},
   "outputs": [],
   "source": [
    "def Euclidean_Alg(a, b):\n",
    "    \"\"\"\n",
    "    Calculate the Greatest Common Divisor of a and b.\n",
    "    This version should have only postive inputs and outputs.\n",
    "    \"\"\"\n",
    "    \n",
    "    x = a\n",
    "    y = b\n",
    "    \n",
    "    while y != 0:\n",
    "        r = x % y\n",
    "        x = y\n",
    "        y = r\n",
    "        \n",
    "    return x"
   ]
  },
  {
   "cell_type": "markdown",
   "metadata": {},
   "source": [
    "#### Second tool set\n",
    "\n",
    "Here we will implement the meat of the RSA cryptosystem. The functions below will generate the public and private key pairs which will then be used to create a ciphertext using the public key and then decode the same using the pirvate key.\n",
    "\n"
   ]
  },
  {
   "cell_type": "code",
   "execution_count": 65,
   "metadata": {},
   "outputs": [],
   "source": [
    "def Find_Public_Key_e(p, q):\n",
    "    \"\"\"\n",
    "    This function takes 2 primes p and q.\n",
    "    \n",
    "    The function should return 2 elements as follows:\n",
    "    public key: n\n",
    "    public key: e\n",
    "    \"\"\"\n",
    "    \n",
    "    n = p * q\n",
    "    \n",
    "    e = 2\n",
    "    gcd = 0\n",
    "    \n",
    "    while gcd != 1:\n",
    "        \n",
    "        if e != p and e != q:    #find an integer e that is relatively prime to (p - 1) * (q - 1)\n",
    "            gcd = Euclidean_Alg(e, (p - 1) * (q - 1))\n",
    "           \n",
    "       \n",
    "        if gcd != 1:    #if e isn't relatively prime to (p - 1) * (q - 1) then keep adding 1 until one is found\n",
    "            e += 1\n",
    "        \n",
    "       \n",
    "    return n, e\n",
    "        \n",
    "        \n",
    "    \n",
    "    \n",
    "    "
   ]
  },
  {
   "cell_type": "code",
   "execution_count": 66,
   "metadata": {},
   "outputs": [
    {
     "data": {
      "text/plain": [
       "(2537, 5)"
      ]
     },
     "execution_count": 66,
     "metadata": {},
     "output_type": "execute_result"
    }
   ],
   "source": [
    "Find_Public_Key_e(43, 59)"
   ]
  },
  {
   "cell_type": "code",
   "execution_count": 67,
   "metadata": {},
   "outputs": [],
   "source": [
    "def extEuclidAlgo(m, n):\n",
    "    \n",
    "    s1, s2 = 1, 0\n",
    "    t1, t2 = 0, 1\n",
    "    \n",
    "    while n > 0:\n",
    "        \n",
    "        k = m % n    #remainder\n",
    "        q = m // n    #quotient\n",
    "        \n",
    "        m = n    #initialize m with n\n",
    "        n = k\n",
    "        \n",
    "        s2, s1 = s1 - q * s2, s2 \n",
    "        t2, t1 = t1 - q * t2, t2\n",
    "    \n",
    "        \n",
    "    return m, s1, t1"
   ]
  },
  {
   "cell_type": "code",
   "execution_count": 68,
   "metadata": {},
   "outputs": [],
   "source": [
    "def Find_Private_Key_d(e, p, q):\n",
    "    \"\"\"\n",
    "    This method will find the decryption exponent d such that\n",
    "    d is the modular inverse of e. \n",
    "    \n",
    "    This will use the Extended Euclidean Algorithm\n",
    "    \n",
    "    This function should return the following:\n",
    "    d: the decryption component.\n",
    "    \"\"\"\n",
    "    \n",
    "    t = (p - 1) * (q - 1)\n",
    "    \n",
    "    _, d, _ = extEuclidAlgo(e, t)\n",
    "    \n",
    "    while d < 0:\n",
    "        \n",
    "        d += t\n",
    "        \n",
    "    return d\n",
    "    "
   ]
  },
  {
   "cell_type": "code",
   "execution_count": 69,
   "metadata": {},
   "outputs": [
    {
     "data": {
      "text/plain": [
       "937"
      ]
     },
     "execution_count": 69,
     "metadata": {},
     "output_type": "execute_result"
    }
   ],
   "source": [
    "Find_Private_Key_d(13, 43, 59)"
   ]
  },
  {
   "cell_type": "markdown",
   "metadata": {},
   "source": [
    "#### Putting things all together.\n",
    "\n",
    "1. In this part, we will define two functions `Encode` and `Decode` which will use the public and private keys that you calculated using the above 2 functions in the second toolset.\n",
    "2. Using the public key, the `Encode` function will encode a message and generate the corresponding cipher_text.\n",
    "3. Using the private key, the `Decode` function will decode a ciper_text and recover the original message.\n",
    "\n"
   ]
  },
  {
   "cell_type": "code",
   "execution_count": 70,
   "metadata": {},
   "outputs": [],
   "source": [
    "def Encode(n, e, message):\n",
    "    \"\"\"\n",
    "    Here, the message will be a string of characters.\n",
    "    We will use function Convert_Text from \n",
    "    the basic tool set and get a list of numbers.\n",
    "    \n",
    "    Encode each of those numbers using n and e and\n",
    "    return the encoded cipher_text.\n",
    "    \"\"\"\n",
    "    length = len(message)    #get length of message to use as a counter for the for loop\n",
    "    cipher_text = Convert_Text(message)    #covert message to ascii\n",
    "    \n",
    "    \n",
    "    for i in range(length):\n",
    "        cipher_text[i] = FME(cipher_text[i], e, n)\n",
    "    \n",
    "    return cipher_text"
   ]
  },
  {
   "cell_type": "code",
   "execution_count": 71,
   "metadata": {},
   "outputs": [
    {
     "data": {
      "text/plain": [
       "[2512, 2133, 1648, 933]"
      ]
     },
     "execution_count": 71,
     "metadata": {},
     "output_type": "execute_result"
    }
   ],
   "source": [
    "msg = Encode(2537, 13, \"stop\")\n",
    "msg"
   ]
  },
  {
   "cell_type": "code",
   "execution_count": 72,
   "metadata": {},
   "outputs": [],
   "source": [
    "def Decode(n, d, cipher_text):\n",
    "    \"\"\"\n",
    "    Here, the cipher_text will be a list of integers.\n",
    "    First, we will decrypt each of those integers using \n",
    "    n and d.\n",
    "    \n",
    "    Later, we will need to use the function Convert_Num, that converts the integers to a string, \n",
    "    from the basic toolset to recover the original message as a string. \n",
    "    \n",
    "    \"\"\"\n",
    "    length = len(cipher_text)\n",
    "    \n",
    "    for i in range(length):\n",
    "        cipher_text[i] = FME(cipher_text[i], d, n)\n",
    "        \n",
    "    message = Convert_Num(cipher_text)\n",
    "    \n",
    "    \n",
    "    return message"
   ]
  },
  {
   "cell_type": "code",
   "execution_count": 73,
   "metadata": {},
   "outputs": [
    {
     "data": {
      "text/plain": [
       "'stop'"
      ]
     },
     "execution_count": 73,
     "metadata": {},
     "output_type": "execute_result"
    }
   ],
   "source": [
    "Decode(2537, 937, msg)"
   ]
  },
  {
   "cell_type": "markdown",
   "metadata": {
    "tags": []
   },
   "source": [
    "Demo \n",
    "###This is a step by step guide to using the code with a specific example that we can follow using the functions you have created above in a mix of code and text blocks. \n",
    "\n",
    "\n",
    "\n",
    "* Generate Keys \n",
    "\n",
    "* Encode a message.\n",
    "\n",
    "* Decode a message\n",
    "\n",
    "* Add new blocks by using the A and B keys \n",
    "\n",
    "\n",
    "\n",
    "\n",
    "\n"
   ]
  },
  {
   "cell_type": "markdown",
   "metadata": {},
   "source": [
    "test message\n",
    "Public key n,e = 5251, 3                      \n",
    "Private key n,d = 5251, 3403\n",
    "\n",
    "Encoded Message = [427, 1105, 4723, 4723, 2371, 1262, 2947, 4250, 762, 1349, 1150]\n",
    "\n",
    "Will be testing then using the public and private key \n"
   ]
  },
  {
   "cell_type": "code",
   "execution_count": 74,
   "metadata": {},
   "outputs": [
    {
     "name": "stdout",
     "output_type": "stream",
     "text": [
      "Hello Earth\n"
     ]
    }
   ],
   "source": [
    "#test message\n",
    "#Public key n,e = 5251, 3                      \n",
    "#Private key n,d = 5251, 3403\n",
    "\n",
    "#Encoded Message = [427, 1105, 4723, 4723, 2371, 1262, 2947, 4250, 762, 1349, 1150]\n",
    "\n",
    "n = 5251\n",
    "e = 3\n",
    "d = 3403\n",
    "msg = [427, 1105, 4723, 4723, 2371, 1262, 2947, 4250, 762, 1349, 1150]\n",
    "\n",
    "print(Decode(n, d, msg))"
   ]
  },
  {
   "cell_type": "markdown",
   "metadata": {},
   "source": [
    "Below is the decoding of the message and response using the public and private key listed above"
   ]
  },
  {
   "cell_type": "code",
   "execution_count": 75,
   "metadata": {},
   "outputs": [
    {
     "name": "stdout",
     "output_type": "stream",
     "text": [
      "What song best describes the feeling you get when your RSA code is working?\n"
     ]
    }
   ],
   "source": [
    "msg = [2128, 1150, 4250, 1349, 1262, 3336, 2371, 2497, 519, 1262, 1263, 1105, 3336, 1349, 1262, 2310, 1105, 3336, 4115, 762, 2405, 1263, 1105, 3336, 1262, 1349, 1150, 1105, 1262, 506, 1105, 1105, 4723, 2405, 2497, 519, 1262, 1974, 2371, 58, 1262, 519, 1105, 1349, 1262, 4839, 1150, 1105, 2497, 1262, 1974, 2371, 58, 762, 1262, 13, 4679, 1573, 1262, 4115, 2371, 2310, 1105, 1262, 2405, 3336, 1262, 4839, 2371, 762, 1560, 2405, 2497, 519, 3250]\n",
    "\n",
    "\n",
    "print(Decode(n, d, msg))"
   ]
  },
  {
   "cell_type": "code",
   "execution_count": 76,
   "metadata": {
    "tags": []
   },
   "outputs": [],
   "source": [
    "msg = Encode(5251, 3, \"Ride of the Valkyries by Richard Wagner\")"
   ]
  },
  {
   "cell_type": "code",
   "execution_count": 77,
   "metadata": {},
   "outputs": [
    {
     "name": "stdout",
     "output_type": "stream",
     "text": [
      "Ride of the Valkyries by Richard Wagner\n"
     ]
    }
   ],
   "source": [
    "print(Decode(n, d, msg))"
   ]
  },
  {
   "cell_type": "markdown",
   "metadata": {},
   "source": [
    "Now I will be generating my own public and private key "
   ]
  },
  {
   "cell_type": "code",
   "execution_count": 78,
   "metadata": {},
   "outputs": [
    {
     "name": "stdout",
     "output_type": "stream",
     "text": [
      "5561\n",
      "5\n"
     ]
    }
   ],
   "source": [
    "p = 67\n",
    "q = 83\n",
    "\n",
    "\n",
    "n, e = Find_Public_Key_e(p, q)\n",
    "\n",
    "\n",
    "print(n)\n",
    "print(e)"
   ]
  },
  {
   "cell_type": "code",
   "execution_count": 79,
   "metadata": {},
   "outputs": [
    {
     "name": "stdout",
     "output_type": "stream",
     "text": [
      "2165\n"
     ]
    }
   ],
   "source": [
    "d = Find_Private_Key_d(5, 67, 83)\n",
    "\n",
    "print(d)"
   ]
  },
  {
   "cell_type": "markdown",
   "metadata": {},
   "source": [
    "Public key n,e = 5561, 5                       \n",
    "Private key n,d = 5561, 2165"
   ]
  },
  {
   "cell_type": "code",
   "execution_count": 80,
   "metadata": {
    "tags": []
   },
   "outputs": [
    {
     "name": "stdout",
     "output_type": "stream",
     "text": [
      "[3086, 4193, 4919, 3036, 816, 4295, 4919, 1033, 816, 4295, 1007, 4043, 4919, 1716, 3648, 2097, 3648, 3383, 4919, 5130, 4681, 3036, 4919, 1683, 1007, 5130, 1033, 5136, 4919, 5130, 3383, 4919, 5130, 4681, 3036, 4919, 3578, 816, 3578, 5136, 4681, 3383, 4919, 3648, 4681, 4919, 3383, 3648, 3578, 5136, 4919, 4193, 816, 791, 4919, 5130, 4919, 2097, 3648, 4681, 2093, 1007, 5136, 4919, 833, 816, 4295, 791, 4919, 3648, 4681, 4919, 3383, 833, 5136, 4919, 1683, 5130, 2097, 3383, 4919, 816, 791, 4919, 4193, 4295, 3383, 4295, 791, 5136, 4769, 4919, 1008, 833, 5136, 791, 5136, 4919, 5130, 4681, 4043, 4919, 1008, 833, 5136, 4681, 4919, 1008, 816, 4295, 1007, 4043, 4919, 3036, 816, 4295, 4919, 1716, 3648, 2097, 3648, 3383, 3800]\n"
     ]
    }
   ],
   "source": [
    "msg = Encode(n, e, \"If you could visit any place at any moment in time for a single hour in the past or future, where and when would you visit?\")\n",
    "\n",
    "print(msg)"
   ]
  },
  {
   "cell_type": "code",
   "execution_count": 81,
   "metadata": {},
   "outputs": [
    {
     "name": "stdout",
     "output_type": "stream",
     "text": [
      "If you could visit any place at any moment in time for a single hour in the past or future, where and when would you visit?\n"
     ]
    }
   ],
   "source": [
    "print(Decode(5561, 2165, msg))"
   ]
  },
  {
   "cell_type": "markdown",
   "metadata": {},
   "source": [
    "Public key n,e = 5561, 5                       \n",
    "Private key n,d = 5561, 2165\n",
    "\n",
    "Encoded Message = [3086, 4193, 4919, 3036, 816, 4295, 4919, 1033, 816, 4295, 1007, 4043, 4919, 1716, 3648, 2097, 3648, 3383, 4919, 5130, 4681, 3036, 4919, 1683, 1007, 5130, 1033, 5136, 4919, 5130, 3383, 4919, 5130, 4681, 3036, 4919, 3578, 816, 3578, 5136, 4681, 3383, 4919, 3648, 4681, 4919, 3383, 3648, 3578, 5136, 4919, 4193, 816, 791, 4919, 5130, 4919, 2097, 3648, 4681, 2093, 1007, 5136, 4919, 833, 816, 4295, 791, 4919, 3648, 4681, 4919, 3383, 833, 5136, 4919, 1683, 5130, 2097, 3383, 4919, 816, 791, 4919, 4193, 4295, 3383, 4295, 791, 5136, 4769, 4919, 1008, 833, 5136, 791, 5136, 4919, 5130, 4681, 4043, 4919, 1008, 833, 5136, 4681, 4919, 1008, 816, 4295, 1007, 4043, 4919, 3036, 816, 4295, 4919, 1716, 3648, 2097, 3648, 3383, 3800]"
   ]
  },
  {
   "cell_type": "code",
   "execution_count": 82,
   "metadata": {},
   "outputs": [
    {
     "data": {
      "text/plain": [
       "'If you could visit any place at any moment in time for a single hour in the past or future, where and when would you visit?'"
      ]
     },
     "execution_count": 82,
     "metadata": {},
     "output_type": "execute_result"
    }
   ],
   "source": [
    "Decode(5561, 2165, [3086, 4193, 4919, 3036, 816, 4295, 4919, 1033, 816, 4295, 1007, 4043, 4919, 1716, 3648, 2097, 3648, 3383, 4919, 5130, 4681, 3036, 4919, 1683, 1007, 5130, 1033, 5136, 4919, 5130, 3383, 4919, 5130, 4681, 3036, 4919, 3578, 816, 3578, 5136, 4681, 3383, 4919, 3648, 4681, 4919, 3383, 3648, 3578, 5136, 4919, 4193, 816, 791, 4919, 5130, 4919, 2097, 3648, 4681, 2093, 1007, 5136, 4919, 833, 816, 4295, 791, 4919, 3648, 4681, 4919, 3383, 833, 5136, 4919, 1683, 5130, 2097, 3383, 4919, 816, 791, 4919, 4193, 4295, 3383, 4295, 791, 5136, 4769, 4919, 1008, 833, 5136, 791, 5136, 4919, 5130, 4681, 4043, 4919, 1008, 833, 5136, 4681, 4919, 1008, 816, 4295, 1007, 4043, 4919, 3036, 816, 4295, 4919, 1716, 3648, 2097, 3648, 3383, 3800])"
   ]
  },
  {
   "cell_type": "markdown",
   "metadata": {},
   "source": [
    "### 3 ex."
   ]
  },
  {
   "cell_type": "markdown",
   "metadata": {},
   "source": [
    "#1"
   ]
  },
  {
   "cell_type": "code",
   "execution_count": 83,
   "metadata": {},
   "outputs": [
    {
     "name": "stdout",
     "output_type": "stream",
     "text": [
      "What song best describes the feeling you get when your RSA code is working?\n"
     ]
    }
   ],
   "source": [
    "n = 5251\n",
    "e = 3\n",
    "d = 3403\n",
    "msg = [2128, 1150, 4250, 1349, 1262, 3336, 2371, 2497, 519, 1262, 1263, 1105, 3336, 1349, 1262, 2310, 1105, 3336, 4115, 762, 2405, 1263, 1105, 3336, 1262, 1349, 1150, 1105, 1262, 506, 1105, 1105, 4723, 2405, 2497, 519, 1262, 1974, 2371, 58, 1262, 519, 1105, 1349, 1262, 4839, 1150, 1105, 2497, 1262, 1974, 2371, 58, 762, 1262, 13, 4679, 1573, 1262, 4115, 2371, 2310, 1105, 1262, 2405, 3336, 1262, 4839, 2371, 762, 1560, 2405, 2497, 519, 3250]\n",
    "\n",
    "print(Decode(n, d, msg))"
   ]
  },
  {
   "cell_type": "code",
   "execution_count": 84,
   "metadata": {
    "tags": []
   },
   "outputs": [],
   "source": [
    "msg = Encode(5251, 3, \"Ride of the Valkyries by Richard Wagner\")"
   ]
  },
  {
   "cell_type": "code",
   "execution_count": 85,
   "metadata": {},
   "outputs": [
    {
     "name": "stdout",
     "output_type": "stream",
     "text": [
      "Ride of the Valkyries by Richard Wagner\n"
     ]
    }
   ],
   "source": [
    "print(Decode(n, d, msg))"
   ]
  },
  {
   "cell_type": "markdown",
   "metadata": {},
   "source": [
    "#2"
   ]
  },
  {
   "cell_type": "markdown",
   "metadata": {},
   "source": [
    "Public key n, e = 989, 211\n",
    "\n",
    "Private key n, d = 989, 127\n",
    "\n",
    "Encoded Message = [646, 190, 527, 116, 978, 836, 115, 978, 680, 283, 418, 114, 978, 360, 527, 32, 283, 114, 836, 116, 58, 978, 527, 669, 836, 539, 527, 116, 58, 616, 978, 539, 283, 32, 836, 58, 493]"
   ]
  },
  {
   "cell_type": "code",
   "execution_count": 86,
   "metadata": {},
   "outputs": [
    {
     "name": "stdout",
     "output_type": "stream",
     "text": [
      "What is your favorite animated movie?\n"
     ]
    }
   ],
   "source": [
    "msg = [646, 190, 527, 116, 978, 836, 115, 978, 680, 283, 418, 114, 978, 360, 527, 32, 283, 114, 836, 116, 58, 978, 527, 669, 836, 539, 527, 116, 58, 616, 978, 539, 283, 32, 836, 58, 493]\n",
    "\n",
    "print(Decode(989, 127, msg))"
   ]
  },
  {
   "cell_type": "code",
   "execution_count": 87,
   "metadata": {},
   "outputs": [
    {
     "name": "stdout",
     "output_type": "stream",
     "text": [
      "[557, 190, 58, 978, 646, 836, 116, 572, 190, 58, 114, 144, 978, 35, 836, 17, 190, 116, 539, 527, 114, 58, 978, 283, 360, 978, 116, 190, 58, 978, 646, 283, 624, 360, 978, 936, 527, 115, 978, 198, 114, 58, 116, 116, 680, 978, 527, 936, 58, 115, 283, 539, 58, 291]\n"
     ]
    }
   ],
   "source": [
    "res = Encode(989, 211, \"The Witcher: Nightmare of the Wolf was pretty awesome!\")\n",
    "\n",
    "print(res)"
   ]
  },
  {
   "cell_type": "code",
   "execution_count": 88,
   "metadata": {},
   "outputs": [
    {
     "name": "stdout",
     "output_type": "stream",
     "text": [
      "The Witcher: Nightmare of the Wolf was pretty awesome!\n"
     ]
    }
   ],
   "source": [
    "print(Decode(989, 127, res))"
   ]
  },
  {
   "cell_type": "markdown",
   "metadata": {},
   "source": [
    "#3 "
   ]
  },
  {
   "cell_type": "markdown",
   "metadata": {},
   "source": [
    "Public key n,e = 2537, 5\n",
    "\n",
    "Private key n,d = 2537, 1949\n",
    "\n",
    "Encoded Message = [98, 70, 492, 1177, 2478, 2102, 70, 2033, 2125, 67, 70, 1665, 1177, 2033, 2471, 1076, 70, 1177, 744, 969, 70, 2033, 492, 2102, 1718, 70, 1177, 392, 2102, 70, 427, 392, 2102, 1177, 2033, 70, 1177, 2033, 70, 1780, 1177, 2025, 761, 744, 427, 70, 2471, 353, 392, 2102, 70, 98, 70, 2033, 1177, 2025, 2102, 70, 492, 2102, 1177, 1716, 2033, 492, 1718, 70, 1281, 392, 2102, 1177, 2025, 2471, 70, 2214, 392, 67, 1780, 70, 2471, 2033, 353, 969, 1718, 761, 744, 427, 1705, 70, 1887, 1559, 70, 1286, 744, 1718, 67, 744, 2102, 70, 2102, 1716, 2471, 2102, 70, 492, 1177, 2478, 2102, 70, 2471, 761, 1780, 761, 1716, 1177, 392, 70, 2471, 2033, 353, 969, 1718, 1967, 492, 2102, 1716, 1723, 2102, 392, 2471, 198]\n"
   ]
  },
  {
   "cell_type": "code",
   "execution_count": 89,
   "metadata": {},
   "outputs": [
    {
     "name": "stdout",
     "output_type": "stream",
     "text": [
      "I have two cats, and they are great at making sure I take healthy breaks from studying. :) Anyone else have similar study-helpers?\n"
     ]
    }
   ],
   "source": [
    "msg = [98, 70, 492, 1177, 2478, 2102, 70, 2033, 2125, 67, 70, 1665, 1177, 2033, 2471, 1076, 70, 1177, 744, 969, 70, 2033, 492, 2102, 1718, 70, 1177, 392, 2102, 70, 427, 392, 2102, 1177, 2033, 70, 1177, 2033, 70, 1780, 1177, 2025, 761, 744, 427, 70, 2471, 353, 392, 2102, 70, 98, 70, 2033, 1177, 2025, 2102, 70, 492, 2102, 1177, 1716, 2033, 492, 1718, 70, 1281, 392, 2102, 1177, 2025, 2471, 70, 2214, 392, 67, 1780, 70, 2471, 2033, 353, 969, 1718, 761, 744, 427, 1705, 70, 1887, 1559, 70, 1286, 744, 1718, 67, 744, 2102, 70, 2102, 1716, 2471, 2102, 70, 492, 1177, 2478, 2102, 70, 2471, 761, 1780, 761, 1716, 1177, 392, 70, 2471, 2033, 353, 969, 1718, 1967, 492, 2102, 1716, 1723, 2102, 392, 2471, 198]\n",
    "\n",
    "print(Decode(2537, 1949, msg))"
   ]
  },
  {
   "cell_type": "code",
   "execution_count": 90,
   "metadata": {},
   "outputs": [
    {
     "name": "stdout",
     "output_type": "stream",
     "text": [
      "[98, 70, 492, 1177, 2478, 2102, 70, 2033, 2125, 67, 70, 1665, 1177, 2033, 2471, 70, 1177, 2471, 70, 2125, 2102, 1716, 1716, 70, 1177, 744, 969, 70, 2471, 67, 1780, 2102, 2033, 761, 1780, 2102, 2471, 70, 2033, 492, 2102, 1718, 70, 1780, 1177, 2025, 2102, 70, 2471, 353, 392, 2102, 70, 98, 70, 2033, 1177, 2025, 2102, 70, 2033, 67, 67, 70, 1780, 1177, 744, 1718, 70, 1281, 392, 2102, 1177, 2025, 2471, 2168]\n"
     ]
    }
   ],
   "source": [
    "res = Encode(2537, 5, \"I have two cats as well and sometimes they make sure I take too many breaks!\")\n",
    "\n",
    "print(res)"
   ]
  },
  {
   "cell_type": "code",
   "execution_count": 91,
   "metadata": {},
   "outputs": [
    {
     "name": "stdout",
     "output_type": "stream",
     "text": [
      "I have two cats as well and sometimes they make sure I take too many breaks!\n"
     ]
    }
   ],
   "source": [
    "print(Decode(2537, 1949, res))"
   ]
  },
  {
   "cell_type": "markdown",
   "metadata": {},
   "source": [
    "### 3 examples of code breaking\n"
   ]
  },
  {
   "cell_type": "markdown",
   "metadata": {},
   "source": [
    "#1 "
   ]
  },
  {
   "cell_type": "markdown",
   "metadata": {},
   "source": [
    "Public key: n, e = 703, 113\n",
    "\n",
    "Cipher = [544, 472, 233, 242, 250, 555, 591, 550, 376, 364, 210, 165, 526, 47, 555, 95, 476, 210, 242, 165, 95, 233, 526, 210, 376, 95, 233, 242, 364, 210, 242, 224, 376, 95, 364, 233, 47, 242, 210, 555, 376, 165, 472, 242, 555, 410, 242, 250, 95, 233, 233, 47, 145]"
   ]
  },
  {
   "cell_type": "code",
   "execution_count": 92,
   "metadata": {},
   "outputs": [],
   "source": [
    "def factorize(n):\n",
    "    for i in range(2, n - 1):\n",
    "       \n",
    "        if n % i == 0:\n",
    "            return i\n",
    "   \n",
    "    return False"
   ]
  },
  {
   "cell_type": "code",
   "execution_count": 93,
   "metadata": {},
   "outputs": [
    {
     "name": "stdout",
     "output_type": "stream",
     "text": [
      "19\n"
     ]
    }
   ],
   "source": [
    "n = 703\n",
    "e = 113\n",
    "p = factorize(n)\n",
    "\n",
    "print(p)"
   ]
  },
  {
   "cell_type": "code",
   "execution_count": 94,
   "metadata": {},
   "outputs": [
    {
     "name": "stdout",
     "output_type": "stream",
     "text": [
      "37\n"
     ]
    }
   ],
   "source": [
    "q = int(n / p)\n",
    "\n",
    "print(q)"
   ]
  },
  {
   "cell_type": "code",
   "execution_count": 95,
   "metadata": {},
   "outputs": [
    {
     "name": "stdout",
     "output_type": "stream",
     "text": [
      "281\n"
     ]
    }
   ],
   "source": [
    "d = Find_Private_Key_d(e, p, q)\n",
    "\n",
    "print(d)"
   ]
  },
  {
   "cell_type": "code",
   "execution_count": 96,
   "metadata": {},
   "outputs": [
    {
     "name": "stdout",
     "output_type": "stream",
     "text": [
      "The Conquistador's treasure is buried south of Creed.\n"
     ]
    }
   ],
   "source": [
    "msg = [544, 472, 233, 242, 250, 555, 591, 550, 376, 364, 210, 165, 526, 47, 555, 95, 476, 210, 242, 165, 95, 233, 526, 210, 376, 95, 233, 242, 364, 210, 242, 224, 376, 95, 364, 233, 47, 242, 210, 555, 376, 165, 472, 242, 555, 410, 242, 250, 95, 233, 233, 47, 145]\n",
    "\n",
    "print(Decode(n, d, msg))"
   ]
  },
  {
   "cell_type": "code",
   "execution_count": 97,
   "metadata": {},
   "outputs": [
    {
     "name": "stdout",
     "output_type": "stream",
     "text": [
      "[116, 555, 541, 242, 410, 526, 95, 242, 210, 555, 376, 165, 472, 242, 555, 410, 242, 250, 95, 233, 233, 47, 195]\n"
     ]
    }
   ],
   "source": [
    "res = Encode(n, e, \"How far south of Creed?\")\n",
    "\n",
    "print(res)"
   ]
  },
  {
   "cell_type": "code",
   "execution_count": 98,
   "metadata": {},
   "outputs": [
    {
     "name": "stdout",
     "output_type": "stream",
     "text": [
      "How far south of Creed?\n"
     ]
    }
   ],
   "source": [
    "print(Decode(n, d, res))"
   ]
  },
  {
   "cell_type": "markdown",
   "metadata": {},
   "source": [
    "#2 I will be implementing a more efficient way of code breaking"
   ]
  },
  {
   "cell_type": "markdown",
   "metadata": {},
   "source": [
    "Public key: n, e = 530657, 13\n",
    "\n",
    "Cipher: [449329, 57698, 265143, 154784, 233775, 216190, 121890, 109444, 5781, 216190, 57698, 475410, 121890, 265143, 362321, 5781, 274884, 527327, 475410, 216190, 109444, 5781, 383572, 216190, 57698, 475410, 153769, 475410, 153769, 4457, 475410, 57698, 216190, 439199, 162254, 153769, 109444, 5781, 216190, 342230, 109444, 121890, 475410, 233775, 480647, 216190, 57698, 475410, 153769, 475410, 153769, 4457, 475410, 57698, 216190, 265032, 109444, 233775, 461663, 216190, 362321, 57698, 162254, 383572, 362321, 475410, 233775, 480647, 216190, 109444, 5781, 383572, 216190, 475410, 459702, 475410, 5781, 216190, 439199, 265143, 156724, 383572, 216190, 342230, 162254, 5781, 475410, 57698, 109444, 156724, 216190, 342230, 265143, 57698, 216190, 461663, 439199, 475410, 274884, 57698, 216190, 383572, 475410, 109444, 383572, 187043]"
   ]
  },
  {
   "cell_type": "code",
   "execution_count": 99,
   "metadata": {},
   "outputs": [],
   "source": [
    "import math\n",
    "\n",
    "def factorize_2(n):\n",
    "    m = math.ceil(math.sqrt(n))\n",
    "    i = 3\n",
    "    \n",
    "    if n % 2 == 0:\n",
    "        return 2\n",
    "        \n",
    "    for i in range(3, m - 1, 2):\n",
    "        \n",
    "        if n % (i) == 0:\n",
    "            return i\n",
    "            \n",
    "    return False"
   ]
  },
  {
   "cell_type": "code",
   "execution_count": 100,
   "metadata": {},
   "outputs": [
    {
     "name": "stdout",
     "output_type": "stream",
     "text": [
      "701\n"
     ]
    }
   ],
   "source": [
    "n = 530657\n",
    "e = 13\n",
    "p = factorize_2(n)\n",
    "\n",
    "print(p)"
   ]
  },
  {
   "cell_type": "code",
   "execution_count": 101,
   "metadata": {},
   "outputs": [
    {
     "name": "stdout",
     "output_type": "stream",
     "text": [
      "757\n"
     ]
    }
   ],
   "source": [
    "q = int(n / p)\n",
    "\n",
    "print(q)"
   ]
  },
  {
   "cell_type": "code",
   "execution_count": 102,
   "metadata": {},
   "outputs": [
    {
     "name": "stdout",
     "output_type": "stream",
     "text": [
      "407077\n"
     ]
    }
   ],
   "source": [
    "d = Find_Private_Key_d(e, p, q)\n",
    "\n",
    "print(d)"
   ]
  },
  {
   "cell_type": "code",
   "execution_count": 103,
   "metadata": {},
   "outputs": [
    {
     "name": "stdout",
     "output_type": "stream",
     "text": [
      "Crows can recognize and remember human faces, remember past grudges, and even hold funeral for their dead.\n"
     ]
    }
   ],
   "source": [
    "msg = [449329, 57698, 265143, 154784, 233775, 216190, 121890, 109444, 5781, 216190, 57698, 475410, 121890, 265143, 362321, 5781, 274884, 527327, 475410, 216190, 109444, 5781, 383572, 216190, 57698, 475410, 153769, 475410, 153769, 4457, 475410, 57698, 216190, 439199, 162254, 153769, 109444, 5781, 216190, 342230, 109444, 121890, 475410, 233775, 480647, 216190, 57698, 475410, 153769, 475410, 153769, 4457, 475410, 57698, 216190, 265032, 109444, 233775, 461663, 216190, 362321, 57698, 162254, 383572, 362321, 475410, 233775, 480647, 216190, 109444, 5781, 383572, 216190, 475410, 459702, 475410, 5781, 216190, 439199, 265143, 156724, 383572, 216190, 342230, 162254, 5781, 475410, 57698, 109444, 156724, 216190, 342230, 265143, 57698, 216190, 461663, 439199, 475410, 274884, 57698, 216190, 383572, 475410, 109444, 383572, 187043]\n",
    "\n",
    "print(Decode(n, d, msg))"
   ]
  },
  {
   "cell_type": "code",
   "execution_count": 104,
   "metadata": {},
   "outputs": [
    {
     "name": "stdout",
     "output_type": "stream",
     "text": [
      "[163218, 265143, 154784, 216190, 274884, 5781, 461663, 475410, 57698, 475410, 233775, 461663, 274884, 5781, 362321, 472499, 216190, 225510, 216190, 57698, 475410, 109444, 383572, 216190, 461663, 439199, 109444, 461663, 216190, 461663, 439199, 475410, 274884, 57698, 216190, 342230, 162254, 5781, 475410, 57698, 109444, 156724, 233775, 216190, 109444, 57698, 475410, 5781, 336242, 461663, 216190, 109444, 216190, 153769, 475410, 461663, 439199, 265143, 383572, 216190, 461663, 265143, 216190, 153769, 265143, 162254, 57698, 5781, 216190, 461663, 439199, 475410, 216190, 383572, 475410, 109444, 383572, 480647, 216190, 4457, 162254, 461663, 216190, 57698, 109444, 461663, 439199, 475410, 57698, 216190, 461663, 265143, 216190, 156724, 475410, 109444, 57698, 5781, 216190, 109444, 4457, 265143, 162254, 461663, 216190, 383572, 109444, 5781, 362321, 475410, 57698, 233775, 187043]\n"
     ]
    }
   ],
   "source": [
    "res = Encode(n, e, \"How interesting! I read that their funerals aren't a method to mourn the dead, but rather to learn about dangers.\")\n",
    "\n",
    "print(res)"
   ]
  },
  {
   "cell_type": "code",
   "execution_count": 105,
   "metadata": {},
   "outputs": [
    {
     "name": "stdout",
     "output_type": "stream",
     "text": [
      "How interesting! I read that their funerals aren't a method to mourn the dead, but rather to learn about dangers.\n"
     ]
    }
   ],
   "source": [
    "print(Decode(n, d, res))"
   ]
  },
  {
   "cell_type": "markdown",
   "metadata": {},
   "source": [
    "#3"
   ]
  },
  {
   "cell_type": "markdown",
   "metadata": {},
   "source": [
    "Public key: n, e = 62393801, 11\n",
    "\n",
    "Cipher: [37096887, 53908672, 32599400, 53908672, 24700436, 41970626, 7689945, 24700436, 11510763, 33325935, 53908672, 24700436, 12374115, 41970626, 36881264, 27257897, 24700436, 60892622, 24700436, 38252815, 60892622, 32599400, 21221649, 53908672, 32599400, 24700436, 33325935, 2674190, 36374940, 58760450, 53908672, 32599400, 24700436, 59367651, 11510763, 32599400, 24700436, 33325935, 27270289]"
   ]
  },
  {
   "cell_type": "code",
   "execution_count": 106,
   "metadata": {},
   "outputs": [
    {
     "name": "stdout",
     "output_type": "stream",
     "text": [
      "7879\n"
     ]
    }
   ],
   "source": [
    "n = 62393801\n",
    "e = 11\n",
    "p = factorize_2(n)\n",
    "\n",
    "print(p)"
   ]
  },
  {
   "cell_type": "code",
   "execution_count": 107,
   "metadata": {},
   "outputs": [
    {
     "name": "stdout",
     "output_type": "stream",
     "text": [
      "7919\n"
     ]
    }
   ],
   "source": [
    "q = int(n / p)\n",
    "\n",
    "print(q)"
   ]
  },
  {
   "cell_type": "code",
   "execution_count": 108,
   "metadata": {},
   "outputs": [
    {
     "name": "stdout",
     "output_type": "stream",
     "text": [
      "17012183\n"
     ]
    }
   ],
   "source": [
    "d = Find_Private_Key_d(e, p, q)\n",
    "\n",
    "print(d)"
   ]
  },
  {
   "cell_type": "code",
   "execution_count": 109,
   "metadata": {},
   "outputs": [
    {
     "name": "stdout",
     "output_type": "stream",
     "text": [
      "Here is one with a larger number for n!\n"
     ]
    }
   ],
   "source": [
    "msg = [37096887, 53908672, 32599400, 53908672, 24700436, 41970626, 7689945, 24700436, 11510763, 33325935, 53908672, 24700436, 12374115, 41970626, 36881264, 27257897, 24700436, 60892622, 24700436, 38252815, 60892622, 32599400, 21221649, 53908672, 32599400, 24700436, 33325935, 2674190, 36374940, 58760450, 53908672, 32599400, 24700436, 59367651, 11510763, 32599400, 24700436, 33325935, 27270289]\n",
    "\n",
    "print(Decode(n, d, msg))"
   ]
  },
  {
   "cell_type": "code",
   "execution_count": 110,
   "metadata": {},
   "outputs": [
    {
     "name": "stdout",
     "output_type": "stream",
     "text": [
      "[40933104, 12374115, 53908672, 7689945, 11510763, 36374940, 53908672, 59916691, 24700436, 36881264, 27257897, 60892622, 33325935, 48177688, 24700436, 35988388, 11510763, 2674190, 27270289]\n"
     ]
    }
   ],
   "source": [
    "res = Encode(n, e, \"Awesome, thank you!\")\n",
    "\n",
    "print(res)"
   ]
  },
  {
   "cell_type": "code",
   "execution_count": 111,
   "metadata": {},
   "outputs": [
    {
     "name": "stdout",
     "output_type": "stream",
     "text": [
      "Awesome, thank you!\n"
     ]
    }
   ],
   "source": [
    "print(Decode(n, d, res))"
   ]
  },
  {
   "cell_type": "markdown",
   "metadata": {},
   "source": [
    "Now I will create an example for others to code break"
   ]
  },
  {
   "cell_type": "code",
   "execution_count": 112,
   "metadata": {},
   "outputs": [
    {
     "name": "stdout",
     "output_type": "stream",
     "text": [
      "630367\n",
      "5\n"
     ]
    }
   ],
   "source": [
    "p = 739\n",
    "q = 853\n",
    "\n",
    "n, e = Find_Public_Key_e(p, q)\n",
    "\n",
    "print(n)\n",
    "print(e)"
   ]
  },
  {
   "cell_type": "code",
   "execution_count": 113,
   "metadata": {},
   "outputs": [
    {
     "name": "stdout",
     "output_type": "stream",
     "text": [
      "503021\n"
     ]
    }
   ],
   "source": [
    "d = Find_Private_Key_d(e, p, q)\n",
    "\n",
    "print(d)"
   ]
  },
  {
   "cell_type": "code",
   "execution_count": 114,
   "metadata": {},
   "outputs": [
    {
     "name": "stdout",
     "output_type": "stream",
     "text": [
      "[264746, 445924, 621877, 144981, 452006, 316097, 483884, 452006, 621877, 218503, 144981, 241274, 483884, 144981, 618626, 480983, 216176, 452006, 144981, 480983, 246613, 246613, 621877, 480983, 216176, 452006, 144981, 375555, 56365, 316097, 621877, 463334]\n"
     ]
    }
   ],
   "source": [
    "msg = Encode(n, e, \"The sunset on Mars appears blue.\")\n",
    "\n",
    "print(msg)"
   ]
  },
  {
   "cell_type": "code",
   "execution_count": 115,
   "metadata": {},
   "outputs": [
    {
     "name": "stdout",
     "output_type": "stream",
     "text": [
      "The sunset on Mars appears blue.\n"
     ]
    }
   ],
   "source": [
    "print(Decode(n, d, msg))"
   ]
  }
 ],
 "metadata": {
  "kernelspec": {
   "display_name": "Python 3 (ipykernel)",
   "language": "python",
   "name": "python3"
  },
  "language_info": {
   "codemirror_mode": {
    "name": "ipython",
    "version": 3
   },
   "file_extension": ".py",
   "mimetype": "text/x-python",
   "name": "python",
   "nbconvert_exporter": "python",
   "pygments_lexer": "ipython3",
   "version": "3.10.8"
  }
 },
 "nbformat": 4,
 "nbformat_minor": 4
}
